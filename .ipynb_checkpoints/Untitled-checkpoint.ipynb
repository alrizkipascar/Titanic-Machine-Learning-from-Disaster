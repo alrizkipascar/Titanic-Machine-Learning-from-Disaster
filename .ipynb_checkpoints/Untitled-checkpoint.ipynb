{
 "cells": [
  {
   "cell_type": "code",
   "execution_count": null,
   "id": "6e9c2925",
   "metadata": {},
   "outputs": [],
   "source": [
    "import tensorflow as tf\n",
    "import pandas as pd\n",
    "import matplotlib\n",
    "from matplotlib import pyplot as plt\n",
    "import seaborn as sns\n",
    "import sklearn.metrics as sk_metrics\n",
    "import tempfile\n",
    "import os\n",
    "\n",
    "# Preset matplotlib figure sizes.\n",
    "matplotlib.rcParams['figure.figsize'] = [9, 6]\n",
    "\n",
    "print(tf.__version__)\n",
    "# To make the results reproducible, set the random seed value.\n",
    "tf.random.set_seed(22)"
   ]
  },
  {
   "cell_type": "code",
   "execution_count": null,
   "id": "4d6abef8",
   "metadata": {},
   "outputs": [],
   "source": [
    "train = pd.read_csv('train.csv')\n",
    "test = pd.read_csv('test.csv')"
   ]
  },
  {
   "cell_type": "code",
   "execution_count": null,
   "id": "02b7ddbc",
   "metadata": {},
   "outputs": [],
   "source": [
    "train_clean.to_csv('train_clean.csv')\n",
    "test_clean.to_csv('test_clean.csv')"
   ]
  },
  {
   "cell_type": "code",
   "execution_count": null,
   "id": "2e694b79",
   "metadata": {},
   "outputs": [],
   "source": [
    "class Normalize(tf.Module):\n",
    "    def __init__(self, x):\n",
    "        # Initialize the mean and standard deviation for normalization\n",
    "        self.mean = tf.Variable(tf.math.reduce_mean(x, axis=0))\n",
    "        self.std = tf.Variable(tf.math.reduce_std(x, axis=0))\n",
    "    def norm(self, x):\n",
    "        # Normalize the input\n",
    "        return (x - self.mean)/self.std\n",
    "    def unnorm(self, x):\n",
    "        # Unnormalize the input\n",
    "        return (x * self.std) + self.mean\n",
    "\n",
    "norm_x = Normalize(x_train)\n",
    "x_train_norm, x_test_norm = norm_x.norm(x_train), norm_x.norm(x_test)"
   ]
  },
  {
   "cell_type": "code",
   "execution_count": null,
   "id": "b29fff1e",
   "metadata": {},
   "outputs": [],
   "source": [
    "def log_loss(y_pred, y):\n",
    "  # Compute the log loss function\n",
    "  ce = tf.nn.sigmoid_cross_entropy_with_logits(labels=y, logits=y_pred)\n",
    "  return tf.reduce_mean(ce)"
   ]
  },
  {
   "cell_type": "code",
   "execution_count": null,
   "id": "fe86077d",
   "metadata": {},
   "outputs": [],
   "source": [
    "class LogisticRegression(tf.Module):\n",
    "\n",
    "  def __init__(self):\n",
    "    self.built = False\n",
    "\n",
    "  def __call__(self, x, train=True):\n",
    "    # Initialize the model parameters on the first call\n",
    "    if not self.built:\n",
    "      # Randomly generate the weights and the bias term\n",
    "      rand_w = tf.random.uniform(shape=[x.shape[-1], 1], seed=22)\n",
    "      rand_b = tf.random.uniform(shape=[], seed=22)\n",
    "      self.w = tf.Variable(rand_w)\n",
    "      self.b = tf.Variable(rand_b)\n",
    "      self.built = True\n",
    "    # Compute the model output\n",
    "    z = tf.add(tf.matmul(x, self.w), self.b)\n",
    "    z = tf.squeeze(z, axis=1)\n",
    "    if train:\n",
    "      return z\n",
    "    return tf.sigmoid(z)"
   ]
  },
  {
   "cell_type": "code",
   "execution_count": null,
   "id": "1bd7837e",
   "metadata": {},
   "outputs": [],
   "source": [
    "def predict_class(y_pred, thresh=0.5):\n",
    "  # Return a tensor with  `1` if `y_pred` > `0.5`, and `0` otherwise\n",
    "  return tf.cast(y_pred > thresh, tf.float32)\n",
    "\n",
    "def accuracy(y_pred, y):\n",
    "  # Return the proportion of matches between `y_pred` and `y`\n",
    "  y_pred = tf.math.sigmoid(y_pred)\n",
    "  y_pred_class = predict_class(y_pred)\n",
    "  check_equal = tf.cast(y_pred_class == y,tf.float32)\n",
    "  acc_val = tf.reduce_mean(check_equal)\n",
    "  return acc_val"
   ]
  },
  {
   "cell_type": "code",
   "execution_count": null,
   "id": "7d7bdfb9",
   "metadata": {},
   "outputs": [],
   "source": []
  },
  {
   "cell_type": "code",
   "execution_count": null,
   "id": "76fc3fe4",
   "metadata": {},
   "outputs": [],
   "source": []
  },
  {
   "cell_type": "code",
   "execution_count": null,
   "id": "04580a34",
   "metadata": {},
   "outputs": [],
   "source": []
  }
 ],
 "metadata": {
  "kernelspec": {
   "display_name": "Python 3 (ipykernel)",
   "language": "python",
   "name": "python3"
  },
  "language_info": {
   "codemirror_mode": {
    "name": "ipython",
    "version": 3
   },
   "file_extension": ".py",
   "mimetype": "text/x-python",
   "name": "python",
   "nbconvert_exporter": "python",
   "pygments_lexer": "ipython3",
   "version": "3.9.12"
  }
 },
 "nbformat": 4,
 "nbformat_minor": 5
}
